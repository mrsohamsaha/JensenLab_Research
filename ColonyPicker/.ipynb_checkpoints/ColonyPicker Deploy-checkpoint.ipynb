{
 "cells": [
  {
   "cell_type": "code",
   "execution_count": 1,
   "metadata": {},
   "outputs": [],
   "source": [
    "import math\n",
    "import pandas as pd\n",
    "import cv2\n",
    "import numpy as np\n",
    "from matplotlib import pyplot as plt"
   ]
  },
  {
   "cell_type": "code",
   "execution_count": 2,
   "metadata": {},
   "outputs": [],
   "source": [
    "def showImages(images):\n",
    "    count = 0\n",
    "    for img in images:\n",
    "        windowName = \"img\" + str(count)\n",
    "        cv2.namedWindow(windowName, cv2.WINDOW_NORMAL)\n",
    "        cv2.imshow(windowName,img)\n",
    "        cv2.waitKey(0)\n",
    "        count += 1\n",
    "    cv2.destroyAllWindows()"
   ]
  },
  {
   "cell_type": "code",
   "execution_count": 32,
   "metadata": {},
   "outputs": [],
   "source": [
    "def detectColonies(imagePath):\n",
    "    #Binary Mask\n",
    "    plateImage = cv2.imread(imagePath,0)\n",
    "    image = cv2.fastNlMeansDenoising(plateImage,None,10,7,21)\n",
    "    adapGauss = cv2.adaptiveThreshold(image,255,cv2.ADAPTIVE_THRESH_GAUSSIAN_C, cv2.THRESH_BINARY_INV, 21, 2)\n",
    "    \n",
    "    #Blob Detection\n",
    "    params2 = cv2.SimpleBlobDetector_Params()\n",
    "    params2.filterByColor = True\n",
    "    params2.blobColor = 255\n",
    "    params2.filterByInertia = True\n",
    "    params2.minInertiaRatio = 0.01\n",
    "    params2.filterByConvexity = True\n",
    "    params2.minConvexity = 0.9\n",
    "    detector = cv2.SimpleBlobDetector_create(params2)\n",
    "    \n",
    "    keypoints = detector.detect(adapGauss)\n",
    "    binaryKeypoints = cv2.drawKeypoints(adapGauss, keypoints, np.array([]), (0,0,255), cv2.DRAW_MATCHES_FLAGS_DRAW_RICH_KEYPOINTS)\n",
    "    originalKeypoints = cv2.drawKeypoints(image, keypoints, np.array([]), (0,0,255), cv2.DRAW_MATCHES_FLAGS_DRAW_RICH_KEYPOINTS)\n",
    "    print(\"%d Colonies Detected\" % (len(keypoints)))\n",
    "    images = []\n",
    "    images.append(binaryKeypoints)\n",
    "    images.append(originalKeypoints)\n",
    "    showImages(images)\n",
    "    return (keypoints, adapGauss)"
   ]
  },
  {
   "cell_type": "code",
   "execution_count": 31,
   "metadata": {},
   "outputs": [],
   "source": [
    "def dist(p1, p2):\n",
    "    return math.sqrt((p2[0] -  p1[0])**2 + (p2[1] - p1[1])**2)\n",
    "\n",
    "class Blob:\n",
    "    def __init__(self, coord, whitePix, darkPix):\n",
    "        self.coord = coord\n",
    "        self.whitePix = whitePix\n",
    "        self.darkPix = darkPix\n",
    "\n",
    "def analyzeColonies(keyPoints, binaryImage):\n",
    "    R = 32\n",
    "    phi = 0.1\n",
    "    width = len(binaryImage)\n",
    "    height = len(binaryImage[0])\n",
    "    blobList = []\n",
    "    for keyPoint in keyPoints:\n",
    "        # Obtaining the x,y pixel coordinates of the blob\n",
    "        x = (int) (keyPoint.pt[0])\n",
    "        y = (int) (keyPoint.pt[1])\n",
    "        coord = [x, y]\n",
    "        # Starting x and y coordinates for the segmented box\n",
    "        lowX = x - R\n",
    "        lowY = y - R\n",
    "\n",
    "        # discarding blobs too close to window boundaries\n",
    "        if lowX < 0 or lowY < 0 or lowX + 2*R > width or lowY + 2*R > height: \n",
    "            continue \n",
    "        r = (int) (keyPoint.size * (1+phi))/2\n",
    "        # dark percentage inside = darkCount/insideCount\n",
    "        # white percentage outside = whiteCOunt/outsideCount\n",
    "        insideCount = 0\n",
    "        outsideCount = 0\n",
    "        whiteCount = 0\n",
    "        darkCount = 0\n",
    "        for i in range(lowX, lowX + 2*R):\n",
    "            for j in range (lowY, lowY + 2*R):\n",
    "                # Do not count pixels that are outside larger circle\n",
    "                if dist([x,y], [i,j]) >= R:\n",
    "                    continue\n",
    "                # Check for dark pixels inside blob\n",
    "                elif dist([x,y], [i,j]) <= r: \n",
    "                    insideCount += 1\n",
    "                    if binaryImage[j, i] == 0:\n",
    "                        darkCount += 1\n",
    "                # Check for white pixels outside blob\n",
    "                else:\n",
    "                    outsideCount += 1\n",
    "                    if binaryImage[j, i] == 255: \n",
    "                        whiteCount += 1\n",
    "        whitePix = whiteCount*100/outsideCount\n",
    "        darkPix = darkCount*100/insideCount\n",
    "        blobList.append(Blob(coord, whitePix, darkPix))\n",
    "    print(\"%d Viable Colonies Analyzed\" % len(blobList))\n",
    "    return blobList"
   ]
  },
  {
   "cell_type": "code",
   "execution_count": 35,
   "metadata": {},
   "outputs": [],
   "source": [
    "def rankColonies(blobList):\n",
    "    darkCutoff = np.percentile(np.array([blob.darkPix for blob in blobList]), 95)\n",
    "    whiteCutoff = np.percentile(np.array([blob.whitePix for blob in blobList]), 50)\n",
    "    for i,blob in enumerate(blobList):\n",
    "        if blob.darkPix > darkCutoff or  blob.whitePix > whiteCutoff:\n",
    "            blobList.remove(blob)\n",
    "    blobList.sort(key=lambda x: x.whitePix)\n",
    "    print(\"%d Viable Colonies Extracted\" % len(blobList))\n",
    "    return blobList"
   ]
  },
  {
   "cell_type": "code",
   "execution_count": 33,
   "metadata": {},
   "outputs": [
    {
     "name": "stdout",
     "output_type": "stream",
     "text": [
      "712 Colonies Detected\n"
     ]
    }
   ],
   "source": [
    "keypoints, binaryImage = detectColonies(\"Plate Images/image-00000.jpg\")"
   ]
  },
  {
   "cell_type": "code",
   "execution_count": 34,
   "metadata": {},
   "outputs": [
    {
     "name": "stdout",
     "output_type": "stream",
     "text": [
      "679 Viable Colonies Analyzed\n"
     ]
    }
   ],
   "source": [
    "blobList = analyzeColonies(keypoints, binaryImage)"
   ]
  },
  {
   "cell_type": "code",
   "execution_count": 36,
   "metadata": {},
   "outputs": [
    {
     "name": "stdout",
     "output_type": "stream",
     "text": [
      "451 Viable Colonies Extracted\n"
     ]
    }
   ],
   "source": [
    "updatedList = rankColonies(blobList)"
   ]
  },
  {
   "cell_type": "code",
   "execution_count": null,
   "metadata": {},
   "outputs": [],
   "source": []
  }
 ],
 "metadata": {
  "kernelspec": {
   "display_name": "Python 3",
   "language": "python",
   "name": "python3"
  },
  "language_info": {
   "codemirror_mode": {
    "name": "ipython",
    "version": 3
   },
   "file_extension": ".py",
   "mimetype": "text/x-python",
   "name": "python",
   "nbconvert_exporter": "python",
   "pygments_lexer": "ipython3",
   "version": "3.7.1"
  }
 },
 "nbformat": 4,
 "nbformat_minor": 2
}
